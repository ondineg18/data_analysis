{
 "cells": [
  {
   "cell_type": "code",
   "execution_count": 13,
   "id": "9ae64100",
   "metadata": {},
   "outputs": [],
   "source": [
    "import os\n",
    "import glob\n",
    "import json\n",
    "from datetime import datetime\n",
    "from collections import defaultdict, Counter\n",
    "import numpy as np\n",
    "import matplotlib.pyplot as plt\n",
    "from scipy import stats\n",
    "from collections import Counter\n",
    "from scipy.stats import binom\n",
    "import pandas as pd\n",
    "import pingouin as pg\n",
    "import re\n",
    "\n",
    "folder_path = \"study-data\""
   ]
  },
  {
   "cell_type": "code",
   "execution_count": 14,
   "id": "be9fbd75",
   "metadata": {},
   "outputs": [
    {
     "data": {
      "application/vnd.microsoft.datawrangler.viewer.v0+json": {
       "columns": [
        {
         "name": "index",
         "rawType": "int64",
         "type": "integer"
        },
        {
         "name": "question",
         "rawType": "object",
         "type": "string"
        },
        {
         "name": "timestamp",
         "rawType": "datetime64[ns]",
         "type": "datetime"
        },
        {
         "name": "answer",
         "rawType": "object",
         "type": "unknown"
        },
        {
         "name": "PID",
         "rawType": "int64",
         "type": "integer"
        },
        {
         "name": "source_file",
         "rawType": "object",
         "type": "string"
        }
       ],
       "ref": "61065798-428d-4654-87e4-b2b4b53370df",
       "rows": [
        [
         "0",
         "7first_choiceC3",
         "2025-07-17 15:00:19.598041",
         "Tell the patient about their condition.",
         "3",
         "66bfdc082ffe8d45b60263a6.jsonl"
        ],
        [
         "1",
         "7second_choiceC3",
         "2025-07-17 15:00:16.851518",
         "Tell the patient about their condition.",
         "3",
         "66bfdc082ffe8d45b60263a6.jsonl"
        ],
        [
         "2",
         "7third_choiceC3",
         "2025-07-17 15:00:27.078233",
         "Tell the patient about their condition.",
         "3",
         "66bfdc082ffe8d45b60263a6.jsonl"
        ],
        [
         "3",
         "1first_choiceC3",
         "2025-07-17 15:01:08.913367",
         "[5000, 5000, 0]",
         "3",
         "66bfdc082ffe8d45b60263a6.jsonl"
        ],
        [
         "4",
         "1second_choiceC3",
         "2025-07-17 15:01:28.387955",
         "[5000, 5000, 0]",
         "3",
         "66bfdc082ffe8d45b60263a6.jsonl"
        ]
       ],
       "shape": {
        "columns": 5,
        "rows": 5
       }
      },
      "text/html": [
       "<div>\n",
       "<style scoped>\n",
       "    .dataframe tbody tr th:only-of-type {\n",
       "        vertical-align: middle;\n",
       "    }\n",
       "\n",
       "    .dataframe tbody tr th {\n",
       "        vertical-align: top;\n",
       "    }\n",
       "\n",
       "    .dataframe thead th {\n",
       "        text-align: right;\n",
       "    }\n",
       "</style>\n",
       "<table border=\"1\" class=\"dataframe\">\n",
       "  <thead>\n",
       "    <tr style=\"text-align: right;\">\n",
       "      <th></th>\n",
       "      <th>question</th>\n",
       "      <th>timestamp</th>\n",
       "      <th>answer</th>\n",
       "      <th>PID</th>\n",
       "      <th>source_file</th>\n",
       "    </tr>\n",
       "  </thead>\n",
       "  <tbody>\n",
       "    <tr>\n",
       "      <th>0</th>\n",
       "      <td>7first_choiceC3</td>\n",
       "      <td>2025-07-17 15:00:19.598041</td>\n",
       "      <td>Tell the patient about their condition.</td>\n",
       "      <td>3</td>\n",
       "      <td>66bfdc082ffe8d45b60263a6.jsonl</td>\n",
       "    </tr>\n",
       "    <tr>\n",
       "      <th>1</th>\n",
       "      <td>7second_choiceC3</td>\n",
       "      <td>2025-07-17 15:00:16.851518</td>\n",
       "      <td>Tell the patient about their condition.</td>\n",
       "      <td>3</td>\n",
       "      <td>66bfdc082ffe8d45b60263a6.jsonl</td>\n",
       "    </tr>\n",
       "    <tr>\n",
       "      <th>2</th>\n",
       "      <td>7third_choiceC3</td>\n",
       "      <td>2025-07-17 15:00:27.078233</td>\n",
       "      <td>Tell the patient about their condition.</td>\n",
       "      <td>3</td>\n",
       "      <td>66bfdc082ffe8d45b60263a6.jsonl</td>\n",
       "    </tr>\n",
       "    <tr>\n",
       "      <th>3</th>\n",
       "      <td>1first_choiceC3</td>\n",
       "      <td>2025-07-17 15:01:08.913367</td>\n",
       "      <td>[5000, 5000, 0]</td>\n",
       "      <td>3</td>\n",
       "      <td>66bfdc082ffe8d45b60263a6.jsonl</td>\n",
       "    </tr>\n",
       "    <tr>\n",
       "      <th>4</th>\n",
       "      <td>1second_choiceC3</td>\n",
       "      <td>2025-07-17 15:01:28.387955</td>\n",
       "      <td>[5000, 5000, 0]</td>\n",
       "      <td>3</td>\n",
       "      <td>66bfdc082ffe8d45b60263a6.jsonl</td>\n",
       "    </tr>\n",
       "  </tbody>\n",
       "</table>\n",
       "</div>"
      ],
      "text/plain": [
       "           question                  timestamp  \\\n",
       "0   7first_choiceC3 2025-07-17 15:00:19.598041   \n",
       "1  7second_choiceC3 2025-07-17 15:00:16.851518   \n",
       "2   7third_choiceC3 2025-07-17 15:00:27.078233   \n",
       "3   1first_choiceC3 2025-07-17 15:01:08.913367   \n",
       "4  1second_choiceC3 2025-07-17 15:01:28.387955   \n",
       "\n",
       "                                    answer  PID  \\\n",
       "0  Tell the patient about their condition.    3   \n",
       "1  Tell the patient about their condition.    3   \n",
       "2  Tell the patient about their condition.    3   \n",
       "3                          [5000, 5000, 0]    3   \n",
       "4                          [5000, 5000, 0]    3   \n",
       "\n",
       "                      source_file  \n",
       "0  66bfdc082ffe8d45b60263a6.jsonl  \n",
       "1  66bfdc082ffe8d45b60263a6.jsonl  \n",
       "2  66bfdc082ffe8d45b60263a6.jsonl  \n",
       "3  66bfdc082ffe8d45b60263a6.jsonl  \n",
       "4  66bfdc082ffe8d45b60263a6.jsonl  "
      ]
     },
     "execution_count": 14,
     "metadata": {},
     "output_type": "execute_result"
    }
   ],
   "source": [
    "rows = []\n",
    "\n",
    "# Loop through all jsonl files\n",
    "for jsonl_path in glob.glob(os.path.join(folder_path, \"*.jsonl\")):\n",
    "    with open(jsonl_path, \"r\", encoding=\"utf-8\") as f:\n",
    "        for line_num, line in enumerate(f, 1):\n",
    "            line = line.strip()\n",
    "            if not line:\n",
    "                continue\n",
    "\n",
    "            try:\n",
    "                record = json.loads(line)\n",
    "            except json.JSONDecodeError:\n",
    "                print(f\"Skipping invalid JSON on line {line_num} in file {jsonl_path}\")\n",
    "                continue\n",
    "\n",
    "            user_answer = record.get(\"user_answer\", {})\n",
    "            pid = record.get(\"PID\", None)\n",
    "\n",
    "            # Unpack user_answer entries\n",
    "            for question_key, value in user_answer.items():\n",
    "                if not isinstance(value, list) or len(value) != 2:\n",
    "                    print(f\"Unexpected format for {question_key} in file {jsonl_path}\")\n",
    "                    continue\n",
    "\n",
    "                timestamp, answer = value\n",
    "\n",
    "                rows.append({\n",
    "                    \"question\": question_key,\n",
    "                    \"timestamp\": timestamp,\n",
    "                    \"answer\": answer,\n",
    "                    \"PID\": pid,\n",
    "                    \"source_file\": os.path.basename(jsonl_path)\n",
    "                })\n",
    "\n",
    "# Convert list of dicts to DataFrame\n",
    "data = pd.DataFrame(rows)\n",
    "\n",
    "# Optional: Convert timestamp column to datetime\n",
    "data['timestamp'] = pd.to_datetime(data['timestamp'], errors='coerce')\n",
    "\n",
    "# Display first few rows\n",
    "data.head()"
   ]
  },
  {
   "cell_type": "code",
   "execution_count": 15,
   "id": "cd704512",
   "metadata": {},
   "outputs": [
    {
     "name": "stdout",
     "output_type": "stream",
     "text": [
      "[1, 0, 0, 1, 1, 1, 0, 1, 0, 0, 2, 0, 1, 0, 1, 1, 0, 1, 1, 0, 0, 1, 0, 1]\n",
      "ShapiroResult(statistic=np.float64(0.7327035797764425), pvalue=np.float64(2.813338074885512e-05))\n",
      "0.7327035797764425\n"
     ]
    },
    {
     "data": {
      "image/png": "[encoded data removed]",
      "text/plain": [
       "<Figure size 640x480 with 1 Axes>"
      ]
     },
     "metadata": {},
     "output_type": "display_data"
    }
   ],
   "source": [
    "participant = []\n",
    "conditions = []\n",
    "time = []\n",
    "C1_time2_3 = []\n",
    "C2_time2_3 = []\n",
    "C3_time2_3 = []\n",
    "\n",
    "C1_change2_3 = []\n",
    "C2_change2_3 = []\n",
    "C3_change2_3 = []\n",
    "\n",
    "\n",
    "for src_file in data['source_file'].unique():\n",
    "    C1_counter = 0\n",
    "    C2_counter = 0\n",
    "    C3_counter = 0\n",
    "\n",
    "    for q in range(1, 13):\n",
    "        for condition in range(1, 4):\n",
    "            first_choice = data.loc[(data['source_file'] == src_file) & (data['question'] == f\"{q}first_choiceC{condition}\")]\n",
    "            second_choice = data.loc[(data['source_file'] == src_file) & (data['question'] == f\"{q}second_choiceC{condition}\")]\n",
    "            third_choice = data.loc[(data['source_file'] == src_file) & (data['question']== f\"{q}third_choiceC{condition}\")]\n",
    "\n",
    "            if second_choice.shape[0] < 1 or third_choice.shape[0] < 1:\n",
    "                continue\n",
    "        \n",
    "            t1 = first_choice.iloc[0]['timestamp']\n",
    "            t2 = second_choice.iloc[0]['timestamp']\n",
    "            t3 = third_choice.iloc[0]['timestamp']\n",
    "            if pd.notnull(t1) and pd.notnull(t2):\n",
    "                participant.append(src_file)\n",
    "                conditions.append(f\"C{condition}\")\n",
    "                # time taken between phase 3 and phase 2 CHANGE HERE TO CALCULATE TIME BETWEEN phase 1 and phase 2\n",
    "                if condition == 1 and (second_choice.iloc[0]['answer']!= third_choice.iloc[0]['answer']):\n",
    "                    C1_counter +=1\n",
    "                if condition == 2 and (second_choice.iloc[0]['answer'] != third_choice.iloc[0]['answer']):\n",
    "                    C2_counter +=1\n",
    "                if condition == 3 and (second_choice.iloc[0]['answer'] != third_choice.iloc[0]['answer']):\n",
    "                    C3_counter +=1\n",
    "\n",
    "    C1_change2_3.append(C1_counter)\n",
    "    C2_change2_3.append(C2_counter)\n",
    "    C3_change2_3.append(C3_counter)\n",
    "\n",
    "shapiro_test = stats.shapiro(C3_change2_3)\n",
    "print(C3_change2_3)\n",
    "print(shapiro_test)\n",
    "print(shapiro_test.statistic)\n",
    "\n",
    "plt.hist(C3_change2_3, bins=20, edgecolor='black')\n",
    "plt.xlabel('Time between phase 2 and 3 (seconds)')\n",
    "plt.ylabel('Frequency')\n",
    "plt.title('Histogram of C3_change2_3')\n",
    "plt.show() \n"
   ]
  },
  {
   "cell_type": "code",
   "execution_count": null,
   "id": "8e2f3e6b",
   "metadata": {},
   "outputs": [],
   "source": []
  }
 ],
 "metadata": {
  "kernelspec": {
   "display_name": "Python 3",
   "language": "python",
   "name": "python3"
  },
  "language_info": {
   "codemirror_mode": {
    "name": "ipython",
    "version": 3
   },
   "file_extension": ".py",
   "mimetype": "text/x-python",
   "name": "python",
   "nbconvert_exporter": "python",
   "pygments_lexer": "ipython3",
   "version": "3.9.6"
  }
 },
 "nbformat": 4,
 "nbformat_minor": 5
}
